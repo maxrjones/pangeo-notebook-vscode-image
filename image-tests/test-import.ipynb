{
 "cells": [
  {
   "cell_type": "code",
   "execution_count": 1,
   "id": "34e9f376-84b8-4bf7-948b-e92370d0ce4f",
   "metadata": {},
   "outputs": [],
   "source": [
    "import xarray as xr"
   ]
  },
  {
   "cell_type": "code",
   "execution_count": 2,
   "id": "0f3ef7ff-e54d-486a-9b48-56ea7ddfab66",
   "metadata": {},
   "outputs": [
    {
     "name": "stdout",
     "output_type": "stream",
     "text": [
      "\n",
      "INSTALLED VERSIONS\n",
      "------------------\n",
      "commit: None\n",
      "python: 3.11.9 | packaged by conda-forge | (main, Apr 19 2024, 18:36:13) [GCC 12.3.0]\n",
      "python-bits: 64\n",
      "OS: Linux\n",
      "OS-release: 5.10.215-203.850.amzn2.x86_64\n",
      "machine: x86_64\n",
      "processor: x86_64\n",
      "byteorder: little\n",
      "LC_ALL: C.UTF-8\n",
      "LANG: C.UTF-8\n",
      "LOCALE: ('en_US', 'UTF-8')\n",
      "libhdf5: 1.14.3\n",
      "libnetcdf: 4.9.2\n",
      "\n",
      "xarray: 2024.5.0\n",
      "pandas: 2.2.2\n",
      "numpy: 1.26.4\n",
      "scipy: 1.13.1\n",
      "netCDF4: 1.6.5\n",
      "pydap: installed\n",
      "h5netcdf: 1.3.0\n",
      "h5py: 3.11.0\n",
      "zarr: 2.18.2\n",
      "cftime: 1.6.3\n",
      "nc_time_axis: 1.4.1\n",
      "iris: None\n",
      "bottleneck: 1.3.8\n",
      "dask: 2024.5.2\n",
      "distributed: 2024.5.2\n",
      "matplotlib: 3.8.4\n",
      "cartopy: 0.23.0\n",
      "seaborn: 0.13.2\n",
      "numbagg: 0.8.1\n",
      "fsspec: 2024.5.0\n",
      "cupy: None\n",
      "pint: 0.23\n",
      "sparse: 0.15.4\n",
      "flox: 0.9.8\n",
      "numpy_groupies: 0.11.1\n",
      "setuptools: 70.0.0\n",
      "pip: 24.0\n",
      "conda: None\n",
      "pytest: 8.2.1\n",
      "mypy: None\n",
      "IPython: 8.17.2\n",
      "sphinx: None\n"
     ]
    },
    {
     "name": "stderr",
     "output_type": "stream",
     "text": [
      "/srv/conda/envs/notebook/lib/python3.11/site-packages/_distutils_hack/__init__.py:26: UserWarning: Setuptools is replacing distutils.\n",
      "  warnings.warn(\"Setuptools is replacing distutils.\")\n"
     ]
    }
   ],
   "source": [
    "xr.show_versions()"
   ]
  },
  {
   "cell_type": "code",
   "execution_count": null,
   "id": "a7e63bd0-616c-40e0-9aba-94e6b749336d",
   "metadata": {},
   "outputs": [],
   "source": []
  }
 ],
 "metadata": {
  "kernelspec": {
   "display_name": "Python 3 (ipykernel)",
   "language": "python",
   "name": "python3"
  },
  "language_info": {
   "codemirror_mode": {
    "name": "ipython",
    "version": 3
   },
   "file_extension": ".py",
   "mimetype": "text/x-python",
   "name": "python",
   "nbconvert_exporter": "python",
   "pygments_lexer": "ipython3",
   "version": "3.11.9"
  }
 },
 "nbformat": 4,
 "nbformat_minor": 5
}
