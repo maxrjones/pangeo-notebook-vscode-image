{
 "cells": [
  {
   "cell_type": "code",
   "execution_count": 1,
   "id": "34e9f376-84b8-4bf7-948b-e92370d0ce4f",
   "metadata": {},
   "outputs": [],
   "source": [
    "import xarray as xr\n",
    "import jupyter_vscode_proxy"
   ]
  },
  {
   "cell_type": "code",
   "execution_count": 2,
   "id": "0f3ef7ff-e54d-486a-9b48-56ea7ddfab66",
   "metadata": {},
   "outputs": [
    {
     "name": "stdout",
     "output_type": "stream",
     "text": [
      "2024.5.0\n"
     ]
    }
   ],
   "source": [
    "print(xr.__version__)"
   ]
  }
 ],
 "metadata": {
  "kernelspec": {
   "display_name": "Python 3 (ipykernel)",
   "language": "python",
   "name": "python3"
  },
  "language_info": {
   "codemirror_mode": {
    "name": "ipython",
    "version": 3
   },
   "file_extension": ".py",
   "mimetype": "text/x-python",
   "name": "python",
   "nbconvert_exporter": "python",
   "pygments_lexer": "ipython3",
   "version": "3.12.4"
  }
 },
 "nbformat": 4,
 "nbformat_minor": 5
}
